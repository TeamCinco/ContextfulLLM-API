{
 "cells": [
  {
   "cell_type": "code",
   "execution_count": 2,
   "metadata": {},
   "outputs": [
    {
     "name": "stdout",
     "output_type": "stream",
     "text": [
      "/mnt/d/Work/Projects/FAQ-LLM-bot/document_qna/../documents/\n"
     ]
    }
   ],
   "source": [
    "import configparser\n",
    "import os\n",
    "\n",
    "config = configparser.ConfigParser()\n",
    "config_path = os.path.join(os.getcwd(), '..', \"documents/\")\n",
    "\n",
    "print(config_path)"
   ]
  },
  {
   "cell_type": "code",
   "execution_count": 3,
   "metadata": {},
   "outputs": [
    {
     "name": "stdout",
     "output_type": "stream",
     "text": [
      "True\n"
     ]
    }
   ],
   "source": [
    "print()"
   ]
  },
  {
   "cell_type": "code",
   "execution_count": 7,
   "metadata": {},
   "outputs": [
    {
     "name": "stdout",
     "output_type": "stream",
     "text": [
      "['test.txt']\n"
     ]
    }
   ],
   "source": [
    "print(os.listdir())"
   ]
  },
  {
   "cell_type": "code",
   "execution_count": 14,
   "metadata": {},
   "outputs": [
    {
     "data": {
      "text/plain": [
       "['/mnt/d/Work/Projects/FAQ-LLM-bot/document_qna/../settings.ini']"
      ]
     },
     "execution_count": 14,
     "metadata": {},
     "output_type": "execute_result"
    }
   ],
   "source": [
    "config = configparser.ConfigParser()\n",
    "config_path = os.path.join(os.getcwd(), '..', 'settings.ini')\n",
    "config.read(config_path)"
   ]
  },
  {
   "cell_type": "code",
   "execution_count": 16,
   "metadata": {},
   "outputs": [
    {
     "name": "stdout",
     "output_type": "stream",
     "text": [
      "Sections: ['storage', 'inference', 'other_settings']\n",
      "All contents:\n",
      "[storage]\n",
      "documents_path = \"documents/\"\n",
      "cached_prompts_path = \"cached_prompts/\"\n",
      "[inference]\n",
      "model = \"meta-llama/llama-3.1-70b-instruct\"\n",
      "temperature = 0.5\n",
      "[other_settings]\n",
      "verbosity = False\n",
      "cache_prompts = True\n"
     ]
    }
   ],
   "source": [
    "config.read(config_path)\n",
    "print(\"Sections:\", config.sections())\n",
    "print(\"All contents:\")\n",
    "for section in config.sections():\n",
    "    print(f\"[{section}]\")\n",
    "    for key, value in config[section].items():\n",
    "        print(f\"{key} = {value}\")"
   ]
  },
  {
   "cell_type": "code",
   "execution_count": 15,
   "metadata": {},
   "outputs": [
    {
     "name": "stdout",
     "output_type": "stream",
     "text": [
      "File exists: True\n"
     ]
    }
   ],
   "source": [
    "print(f\"File exists: {os.path.exists(config_path)}\")"
   ]
  },
  {
   "cell_type": "code",
   "execution_count": 7,
   "metadata": {},
   "outputs": [
    {
     "name": "stdout",
     "output_type": "stream",
     "text": [
      "DEFAULT\n",
      "storage\n",
      "inference\n",
      "other_settings\n"
     ]
    }
   ],
   "source": [
    "for key in config.keys():\n",
    "    print(key)"
   ]
  },
  {
   "cell_type": "code",
   "execution_count": null,
   "metadata": {},
   "outputs": [],
   "source": []
  },
  {
   "cell_type": "code",
   "execution_count": 9,
   "metadata": {},
   "outputs": [
    {
     "data": {
      "text/plain": [
       "'\"documents/\"'"
      ]
     },
     "execution_count": 9,
     "metadata": {},
     "output_type": "execute_result"
    }
   ],
   "source": [
    "config[\"storage\"][\"documents_path\"]"
   ]
  },
  {
   "cell_type": "code",
   "execution_count": 10,
   "metadata": {},
   "outputs": [
    {
     "ename": "ImportError",
     "evalue": "attempted relative import with no known parent package",
     "output_type": "error",
     "traceback": [
      "\u001b[0;31m---------------------------------------------------------------------------\u001b[0m",
      "\u001b[0;31mImportError\u001b[0m                               Traceback (most recent call last)",
      "Cell \u001b[0;32mIn[10], line 9\u001b[0m\n\u001b[1;32m      6\u001b[0m \u001b[38;5;28;01mfrom\u001b[39;00m \u001b[38;5;21;01mfunctools\u001b[39;00m \u001b[38;5;28;01mimport\u001b[39;00m partial\n\u001b[1;32m      8\u001b[0m \u001b[38;5;66;03m# Internal imports\u001b[39;00m\n\u001b[0;32m----> 9\u001b[0m \u001b[38;5;28;01mfrom\u001b[39;00m \u001b[38;5;21;01m.\u001b[39;00m\u001b[38;5;21;01mqna\u001b[39;00m \u001b[38;5;28;01mimport\u001b[39;00m QnA\n\u001b[1;32m     10\u001b[0m \u001b[38;5;28;01mfrom\u001b[39;00m \u001b[38;5;21;01m.\u001b[39;00m\u001b[38;5;21;01mfile_loader\u001b[39;00m \u001b[38;5;28;01mimport\u001b[39;00m read_directory\n\u001b[1;32m     11\u001b[0m \u001b[38;5;28;01mfrom\u001b[39;00m \u001b[38;5;21;01m.\u001b[39;00m\u001b[38;5;21;01mhash_directory\u001b[39;00m \u001b[38;5;28;01mimport\u001b[39;00m hash_directory\n",
      "\u001b[0;31mImportError\u001b[0m: attempted relative import with no known parent package"
     ]
    }
   ],
   "source": [
    "# External imports:\n",
    "import configparser\n",
    "import os\n",
    "from dotenv import load_dotenv\n",
    "from openai import OpenAI\n",
    "from functools import partial\n",
    "\n",
    "# Internal imports\n",
    "from .qna import QnA\n",
    "from .file_loader import read_directory\n",
    "from .hash_directory import hash_directory\n",
    "from .llm_prompt import llm_prompt, default_msg\n",
    "from .get_response import get_response\n",
    "\n",
    "# importing variables from config\n",
    "config = configparser.ConfigParser()\n",
    "config_path = os.path.join(os.getcwd(), '..', 'settings.ini')\n",
    "config.read(config_path)\n",
    "\n",
    "# Loading .env file\n",
    "dotenv_path = os.path.join(os.getcwd(), '..', '.env')\n",
    "load_dotenv(dotenv_path)\n",
    "\n",
    "# Storage\n",
    "documents_path = os.path.join(os.getcwd(), '..', config[\"storage\"][\"documents_path\"] )\n",
    "cached_prompts_path = os.path.join(os.getcwd(), '..', config[\"storage\"][\"cached_prompts_path\"] )"
   ]
  },
  {
   "cell_type": "code",
   "execution_count": 12,
   "metadata": {},
   "outputs": [
    {
     "name": "stdout",
     "output_type": "stream",
     "text": [
      "DEFAULT\n",
      "storage\n",
      "inference\n",
      "other_settings\n",
      "/mnt/d/Work/Projects/FAQ-LLM-bot/document_qna/../\"documents/\"\n"
     ]
    }
   ],
   "source": [
    "# External imports:\n",
    "import configparser\n",
    "import os\n",
    "from dotenv import load_dotenv\n",
    "from openai import OpenAI\n",
    "from functools import partial\n",
    "\n",
    "# Internal imports\n",
    "from qna import QnA\n",
    "from file_loader import read_directory\n",
    "from hash_directory import hash_directory\n",
    "from llm_prompt import llm_prompt, default_msg\n",
    "from get_response import get_response\n",
    "\n",
    "# importing variables from config\n",
    "config = configparser.ConfigParser()\n",
    "config_path = os.path.join(os.getcwd(), '..', 'settings.ini')\n",
    "config.read(config_path)\n",
    "\n",
    "for key in config.keys():\n",
    "    print(key)\n",
    "    \n",
    "documents_path = os.path.join(os.getcwd(), '..', config[\"storage\"][\"documents_path\"] )\n",
    "cached_prompts_path = os.path.join(os.getcwd(), '..', config[\"storage\"][\"cached_prompts_path\"] )\n",
    "\n",
    "print(documents_path)"
   ]
  }
 ],
 "metadata": {
  "kernelspec": {
   "display_name": "base",
   "language": "python",
   "name": "python3"
  },
  "language_info": {
   "codemirror_mode": {
    "name": "ipython",
    "version": 3
   },
   "file_extension": ".py",
   "mimetype": "text/x-python",
   "name": "python",
   "nbconvert_exporter": "python",
   "pygments_lexer": "ipython3",
   "version": "3.11.5"
  }
 },
 "nbformat": 4,
 "nbformat_minor": 2
}
